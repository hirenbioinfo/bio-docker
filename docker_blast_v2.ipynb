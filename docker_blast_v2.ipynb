{
 "cells": [
  {
   "cell_type": "markdown",
   "id": "33820290",
   "metadata": {},
   "source": [
    "# Running BLAST from a container with Docker\n",
    "\n",
    "**Author:** Hiren Ghosh  \n",
    "**Affiliation:** Uniklinik Freiburg\n",
    "\n",
    "---\n",
    "## Introduction\n",
    "We’ll be running a BLAST (Basic Local Alignment Search Tool) example with a container from BioContainers. BLAST is a tool bioinformaticians use to compare a sample genetic sequence to a database of known seqeuences; it’s one of the most widely used bioinformatics tools.\n",
    "\n",
    "### Instalation\n",
    "To run BLAST from a Docker container, you can follow these steps:\n",
    "Install Docker: If you don't have Docker installed, download and install Docker for your operating system from the official Docker website (https://www.docker.com/get-started).\n"
   ]
  },
  {
   "cell_type": "code",
   "execution_count": 4,
   "id": "4f8d7def",
   "metadata": {},
   "outputs": [],
   "source": [
    "# Install docker on mac \n",
    "#!brew cask install docker\n",
    "#!docker version"
   ]
  },
  {
   "cell_type": "code",
   "execution_count": 5,
   "id": "03867779",
   "metadata": {},
   "outputs": [
    {
     "name": "stdout",
     "output_type": "stream",
     "text": [
      "REPOSITORY            TAG           IMAGE ID       CREATED       SIZE\n",
      "ubuntu                latest        3b418d7b466a   2 weeks ago   77.8MB\n",
      "biocontainers/blast   v2.2.31_cv2   5b25e08b9871   4 years ago   2.03GB\n",
      "kodekloud/webapp      latest        1a45ba829f10   5 years ago   432MB\n"
     ]
    }
   ],
   "source": [
    "!docker images"
   ]
  },
  {
   "cell_type": "code",
   "execution_count": 6,
   "id": "3af532b1",
   "metadata": {},
   "outputs": [],
   "source": [
    "# delete some unnecessary package \n",
    "#!docker rmi -f 0cbfc4f213a4"
   ]
  },
  {
   "cell_type": "code",
   "execution_count": 8,
   "id": "658920b5",
   "metadata": {},
   "outputs": [
    {
     "name": "stdout",
     "output_type": "stream",
     "text": [
      "v2.2.31_cv2: Pulling from biocontainers/blast\n",
      "Digest: sha256:238717ec69830ec62a19fc05c6f70183f218a13f7678864060f0157dc63dc54f\n",
      "Status: Image is up to date for biocontainers/blast:v2.2.31_cv2\n",
      "docker.io/biocontainers/blast:v2.2.31_cv2\n"
     ]
    }
   ],
   "source": [
    "#Pull the BLAST container image: Use the Docker command-line interface (CLI) to pull the BLAST container image from a Docker repository. \n",
    "#For example, you can pull the official NCBI BLAST+ image using the following command:\n",
    "\n",
    "!docker pull biocontainers/blast:v2.2.31_cv2\n",
    "#!docker run biocontainers/blast:v2.2.31_cv2 blastp -help"
   ]
  },
  {
   "cell_type": "code",
   "execution_count": null,
   "id": "4b2d7b02",
   "metadata": {},
   "outputs": [],
   "source": [
    "#Let’s download some data to start blasting:\n",
    "#!mkdir blast_example\n",
    "#!cd blast_example\n",
    "!wget http://www.uniprot.org/uniprot/P04156.fasta"
   ]
  },
  {
   "cell_type": "code",
   "execution_count": null,
   "id": "850f5c6e",
   "metadata": {},
   "outputs": [
    {
     "name": "stdout",
     "output_type": "stream",
     "text": [
      "  % Total    % Received % Xferd  Average Speed   Time    Time     Time  Current\n",
      "                                 Dload  Upload   Total   Spent    Left  Speed\n",
      "100 23.3M  100 23.3M    0     0  7618k      0  0:00:03  0:00:03 --:--:-- 7618k\n",
      "zebrafish.1.protein.faa already exists -- do you wish to overwrite (y or n)? "
     ]
    }
   ],
   "source": [
    "#This is a human prion FASTA sequence. We’ll also need a reference database to blast against:\n",
    "!curl -O ftp://ftp.ncbi.nih.gov/refseq/D_rerio/mRNA_Prot/zebrafish.1.protein.faa.gz\n",
    "!gunzip zebrafish.1.protein.faa.gz"
   ]
  },
  {
   "cell_type": "markdown",
   "id": "dfdd6934",
   "metadata": {},
   "source": [
    "### Mounting host directories inside the Docker container\n",
    "\n",
    "To analyze data within a Docker container, you can mount a directory containing the data in the container. In this example, let's assume you have a FASTQ file called `my_sample.fq.gz` in your current working directory and you want to analyze it using software within a Docker container. You can mount the current working directory in the `/data` folder within the container.\n",
    "\n",
    "The following command mounts the current working directory and executes a command within the container to process the data:\n",
    "\n",
    "```bash\n",
    "docker run --rm -v $(pwd):/data your_docker_image command_to_process_data /data/my_sample.fq.gz\n"
   ]
  },
  {
   "cell_type": "code",
   "execution_count": null,
   "id": "2ffe6742",
   "metadata": {},
   "outputs": [],
   "source": [
    "!docker run -v `pwd`:/data/ biocontainers/blast:v2.2.31_cv2 makeblastdb -in zebrafish.1.protein.faa -dbtype prot"
   ]
  },
  {
   "cell_type": "code",
   "execution_count": null,
   "id": "8ac3ab13",
   "metadata": {},
   "outputs": [],
   "source": [
    "!docker run -v `pwd`:/data/ biocontainers/blast:v2.2.31_cv2 blastp -query P04156.fasta.1 -db zebrafish.1.protein.faa -out results.txt -outfmt \"6 qseqid sseqid pident length mismatch evalue\""
   ]
  },
  {
   "cell_type": "code",
   "execution_count": 3,
   "id": "b09a376c",
   "metadata": {},
   "outputs": [
    {
     "name": "stdout",
     "output_type": "stream",
     "text": [
      "sp|P04156|PRIO_HUMAN\tXP_017207509.1\t42.50\t80\t31\t2e-04\n",
      "sp|P04156|PRIO_HUMAN\tXP_017207511.1\t42.50\t80\t31\t2e-04\n",
      "sp|P04156|PRIO_HUMAN\tXP_021323434.1\t42.50\t80\t31\t3e-04\n",
      "sp|P04156|PRIO_HUMAN\tXP_017207510.1\t42.50\t80\t31\t3e-04\n",
      "sp|P04156|PRIO_HUMAN\tXP_021323433.1\t42.50\t80\t31\t3e-04\n",
      "sp|P04156|PRIO_HUMAN\tXP_009291733.1\t42.50\t80\t31\t3e-04\n",
      "sp|P04156|PRIO_HUMAN\tNP_001268391.1\t24.84\t157\t103\t0.072\n",
      "sp|P04156|PRIO_HUMAN\tXP_009291898.1\t24.84\t157\t103\t0.075\n",
      "sp|P04156|PRIO_HUMAN\tXP_021323367.1\t24.84\t157\t103\t0.075\n",
      "sp|P04156|PRIO_HUMAN\tXP_021323366.1\t24.84\t157\t103\t0.076\n"
     ]
    }
   ],
   "source": [
    "!head results.txt"
   ]
  },
  {
   "cell_type": "code",
   "execution_count": null,
   "id": "4f72ffde",
   "metadata": {},
   "outputs": [],
   "source": []
  }
 ],
 "metadata": {
  "kernelspec": {
   "display_name": "Python 3",
   "language": "python",
   "name": "python3"
  },
  "language_info": {
   "codemirror_mode": {
    "name": "ipython",
    "version": 3
   },
   "file_extension": ".py",
   "mimetype": "text/x-python",
   "name": "python",
   "nbconvert_exporter": "python",
   "pygments_lexer": "ipython3",
   "version": "3.7.8"
  }
 },
 "nbformat": 4,
 "nbformat_minor": 5
}
