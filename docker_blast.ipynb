{
 "cells": [
  {
   "cell_type": "markdown",
   "id": "672a79ae",
   "metadata": {},
   "source": [
    "## Running BLAST from a container with Docker\n",
    "We’ll be running a BLAST (Basic Local Alignment Search Tool) example with a container from BioContainers. BLAST is a tool bioinformaticians use to compare a sample genetic sequence to a database of known seqeuences; it’s one of the most widely used bioinformatics tools."
   ]
  },
  {
   "cell_type": "code",
   "execution_count": 1,
   "id": "64cc5613",
   "metadata": {},
   "outputs": [
    {
     "name": "stdout",
     "output_type": "stream",
     "text": [
      "Client:\n",
      " Cloud integration: v1.0.22\n",
      " Version:           20.10.12\n",
      " API version:       1.41\n",
      " Go version:        go1.16.12\n",
      " Git commit:        e91ed57\n",
      " Built:             Mon Dec 13 11:46:56 2021\n",
      " OS/Arch:           darwin/amd64\n",
      " Context:           default\n",
      " Experimental:      true\n",
      "\n",
      "Server: Docker Desktop 4.5.0 (74594)\n",
      " Engine:\n",
      "  Version:          20.10.12\n",
      "  API version:      1.41 (minimum version 1.12)\n",
      "  Go version:       go1.16.12\n",
      "  Git commit:       459d0df\n",
      "  Built:            Mon Dec 13 11:43:56 2021\n",
      "  OS/Arch:          linux/amd64\n",
      "  Experimental:     false\n",
      " containerd:\n",
      "  Version:          1.4.12\n",
      "  GitCommit:        7b11cfaabd73bb80907dd23182b9347b4245eb5d\n",
      " runc:\n",
      "  Version:          1.0.2\n",
      "  GitCommit:        v1.0.2-0-g52b36a2\n",
      " docker-init:\n",
      "  Version:          0.19.0\n",
      "  GitCommit:        de40ad0\n"
     ]
    }
   ],
   "source": [
    "# Install docker on mac \n",
    "#!brew cask install docker\n",
    "#! docker version"
   ]
  },
  {
   "cell_type": "code",
   "execution_count": 2,
   "id": "1eefc8d6",
   "metadata": {},
   "outputs": [
    {
     "name": "stdout",
     "output_type": "stream",
     "text": [
      "REPOSITORY            TAG           IMAGE ID       CREATED       SIZE\n",
      "ubuntu                latest        3b418d7b466a   2 weeks ago   77.8MB\n",
      "biocontainers/blast   v2.2.31_cv2   5b25e08b9871   4 years ago   2.03GB\n",
      "biocontainers/blast   2.2.31        0cbfc4f213a4   5 years ago   1.97GB\n",
      "kodekloud/webapp      latest        1a45ba829f10   5 years ago   432MB\n"
     ]
    }
   ],
   "source": [
    "!docker images"
   ]
  },
  {
   "cell_type": "code",
   "execution_count": 9,
   "id": "500a2910",
   "metadata": {},
   "outputs": [
    {
     "name": "stdout",
     "output_type": "stream",
     "text": [
      "Untagged: biocontainers/blast:2.2.31\n",
      "Untagged: biocontainers/blast@sha256:64e049c84d22b86001b0f9cb1699f8e0af7a46a9ac9298132ec3c48874068fb6\n",
      "Deleted: sha256:0cbfc4f213a4e9ba7b84eab41f8c5ce09d9c72742135c778e7aefd987be11202\n"
     ]
    }
   ],
   "source": [
    "!docker rmi -f 0cbfc4f213a4"
   ]
  },
  {
   "cell_type": "code",
   "execution_count": 10,
   "id": "dec599c0",
   "metadata": {},
   "outputs": [
    {
     "name": "stdout",
     "output_type": "stream",
     "text": [
      "REPOSITORY         TAG       IMAGE ID       CREATED       SIZE\n",
      "ubuntu             latest    3b418d7b466a   2 weeks ago   77.8MB\n",
      "kodekloud/webapp   latest    1a45ba829f10   5 years ago   432MB\n"
     ]
    }
   ],
   "source": [
    "!docker images"
   ]
  },
  {
   "cell_type": "code",
   "execution_count": 8,
   "id": "1cf6ff24",
   "metadata": {},
   "outputs": [
    {
     "name": "stdout",
     "output_type": "stream",
     "text": [
      "Unable to find image 'biocontainers/blast:v2.2.31' locally\n",
      "docker: Error response from daemon: manifest for biocontainers/blast:v2.2.31 not found: manifest unknown: manifest unknown.\n",
      "See 'docker run --help'.\n"
     ]
    }
   ],
   "source": [
    "!docker run biocontainers/blast:v2.2.31 blastp -help"
   ]
  },
  {
   "cell_type": "code",
   "execution_count": 11,
   "id": "2289f554",
   "metadata": {},
   "outputs": [
    {
     "name": "stdout",
     "output_type": "stream",
     "text": [
      "v2.2.31_cv2: Pulling from biocontainers/blast\n",
      "\n",
      "\u001b[1B81ace0ea: Already exists \n",
      "\u001b[1B3c87dba3: Already exists \n",
      "\u001b[1B0a1c435a: Already exists \n",
      "\u001b[1B4b14977e: Already exists \n",
      "\u001b[1B96653dae: Already exists \n",
      "\u001b[1Bb86aada8: Already exists \n",
      "\u001b[1Bdd7e30dd: Already exists \n",
      "\u001b[1B54b871f1: Already exists \n",
      "\u001b[1B22b2c83f: Already exists \n",
      "\u001b[1B8a4ecb8d: Already exists \n",
      "\u001b[1Bef549338: Already exists \n",
      "\u001b[1Bfc643fc1: Already exists \n",
      "\u001b[1Bfab077ab: Already exists \n",
      "\u001b[1B4567241d: Already exists \n",
      "\u001b[1Bd43b1320: Already exists \n",
      "\u001b[1B2ee4b7f4: Already exists \n",
      "\u001b[1B7209cee0: Already exists Digest: sha256:238717ec69830ec62a19fc05c6f70183f218a13f7678864060f0157dc63dc54f\n",
      "Status: Downloaded newer image for biocontainers/blast:v2.2.31_cv2\n",
      "docker.io/biocontainers/blast:v2.2.31_cv2\n"
     ]
    }
   ],
   "source": [
    "!docker pull biocontainers/blast:v2.2.31_cv2"
   ]
  },
  {
   "cell_type": "code",
   "execution_count": 12,
   "id": "0554dba9",
   "metadata": {},
   "outputs": [
    {
     "name": "stdout",
     "output_type": "stream",
     "text": [
      "USAGE\n",
      "  blastp [-h] [-help] [-import_search_strategy filename]\n",
      "    [-export_search_strategy filename] [-task task_name] [-db database_name]\n",
      "    [-dbsize num_letters] [-gilist filename] [-seqidlist filename]\n",
      "    [-negative_gilist filename] [-entrez_query entrez_query]\n",
      "    [-db_soft_mask filtering_algorithm] [-db_hard_mask filtering_algorithm]\n",
      "    [-subject subject_input_file] [-subject_loc range] [-query input_file]\n",
      "    [-out output_file] [-evalue evalue] [-word_size int_value]\n",
      "    [-gapopen open_penalty] [-gapextend extend_penalty]\n",
      "    [-qcov_hsp_perc float_value] [-max_hsps int_value]\n",
      "    [-xdrop_ungap float_value] [-xdrop_gap float_value]\n",
      "    [-xdrop_gap_final float_value] [-searchsp int_value]\n",
      "    [-sum_stats bool_value] [-seg SEG_options] [-soft_masking soft_masking]\n",
      "    [-matrix matrix_name] [-threshold float_value] [-culling_limit int_value]\n",
      "    [-best_hit_overhang float_value] [-best_hit_score_edge float_value]\n",
      "    [-window_size int_value] [-lcase_masking] [-query_loc range]\n",
      "    [-parse_deflines] [-outfmt format] [-show_gis]\n",
      "    [-num_descriptions int_value] [-num_alignments int_value]\n",
      "    [-line_length line_length] [-html] [-max_target_seqs num_sequences]\n",
      "    [-num_threads int_value] [-ungapped] [-remote] [-comp_based_stats compo]\n",
      "    [-use_sw_tback] [-version]\n",
      "\n",
      "DESCRIPTION\n",
      "   Protein-Protein BLAST 2.2.31+\n",
      "\n",
      "OPTIONAL ARGUMENTS\n",
      " -h\n",
      "   Print USAGE and DESCRIPTION;  ignore all other parameters\n",
      " -help\n",
      "   Print USAGE, DESCRIPTION and ARGUMENTS; ignore all other parameters\n",
      " -version\n",
      "   Print version number;  ignore other arguments\n",
      "\n",
      " *** Input query options\n",
      " -query <File_In>\n",
      "   Input file name\n",
      "   Default = `-'\n",
      " -query_loc <String>\n",
      "   Location on the query sequence in 1-based offsets (Format: start-stop)\n",
      "\n",
      " *** General search options\n",
      " -task <String, Permissible values: 'blastp' 'blastp-fast' 'blastp-short' >\n",
      "   Task to execute\n",
      "   Default = `blastp'\n",
      " -db <String>\n",
      "   BLAST database name\n",
      "    * Incompatible with:  subject, subject_loc\n",
      " -out <File_Out>\n",
      "   Output file name\n",
      "   Default = `-'\n",
      " -evalue <Real>\n",
      "   Expectation value (E) threshold for saving hits \n",
      "   Default = `10'\n",
      " -word_size <Integer, >=2>\n",
      "   Word size for wordfinder algorithm\n",
      " -gapopen <Integer>\n",
      "   Cost to open a gap\n",
      " -gapextend <Integer>\n",
      "   Cost to extend a gap\n",
      " -matrix <String>\n",
      "   Scoring matrix name (normally BLOSUM62)\n",
      " -threshold <Real, >=0>\n",
      "   Minimum word score such that the word is added to the BLAST lookup table\n",
      " -comp_based_stats <String>\n",
      "   Use composition-based statistics:\n",
      "       D or d: default (equivalent to 2 )\n",
      "       0 or F or f: No composition-based statistics\n",
      "       1: Composition-based statistics as in NAR 29:2994-3005, 2001\n",
      "       2 or T or t : Composition-based score adjustment as in Bioinformatics\n",
      "   21:902-911,\n",
      "       2005, conditioned on sequence properties\n",
      "       3: Composition-based score adjustment as in Bioinformatics 21:902-911,\n",
      "       2005, unconditionally\n",
      "   Default = `2'\n",
      "\n",
      " *** BLAST-2-Sequences options\n",
      " -subject <File_In>\n",
      "   Subject sequence(s) to search\n",
      "    * Incompatible with:  db, gilist, seqidlist, negative_gilist,\n",
      "   db_soft_mask, db_hard_mask\n",
      " -subject_loc <String>\n",
      "   Location on the subject sequence in 1-based offsets (Format: start-stop)\n",
      "    * Incompatible with:  db, gilist, seqidlist, negative_gilist,\n",
      "   db_soft_mask, db_hard_mask, remote\n",
      "\n",
      " *** Formatting options\n",
      " -outfmt <String>\n",
      "   alignment view options:\n",
      "     0 = pairwise,\n",
      "     1 = query-anchored showing identities,\n",
      "     2 = query-anchored no identities,\n",
      "     3 = flat query-anchored, show identities,\n",
      "     4 = flat query-anchored, no identities,\n",
      "     5 = XML Blast output,\n",
      "     6 = tabular,\n",
      "     7 = tabular with comment lines,\n",
      "     8 = Text ASN.1,\n",
      "     9 = Binary ASN.1,\n",
      "    10 = Comma-separated values,\n",
      "    11 = BLAST archive format (ASN.1),\n",
      "    12 = JSON Seqalign output,\n",
      "    13 = JSON Blast output,\n",
      "    14 = XML2 Blast output\n",
      "   \n",
      "   Options 6, 7, and 10 can be additionally configured to produce\n",
      "   a custom format specified by space delimited format specifiers.\n",
      "   The supported format specifiers are:\n",
      "   \t    qseqid means Query Seq-id\n",
      "   \t       qgi means Query GI\n",
      "   \t      qacc means Query accesion\n",
      "   \t   qaccver means Query accesion.version\n",
      "   \t      qlen means Query sequence length\n",
      "   \t    sseqid means Subject Seq-id\n",
      "   \t sallseqid means All subject Seq-id(s), separated by a ';'\n",
      "   \t       sgi means Subject GI\n",
      "   \t    sallgi means All subject GIs\n",
      "   \t      sacc means Subject accession\n",
      "   \t   saccver means Subject accession.version\n",
      "   \t   sallacc means All subject accessions\n",
      "   \t      slen means Subject sequence length\n",
      "   \t    qstart means Start of alignment in query\n",
      "   \t      qend means End of alignment in query\n",
      "   \t    sstart means Start of alignment in subject\n",
      "   \t      send means End of alignment in subject\n",
      "   \t      qseq means Aligned part of query sequence\n",
      "   \t      sseq means Aligned part of subject sequence\n",
      "   \t    evalue means Expect value\n",
      "   \t  bitscore means Bit score\n",
      "   \t     score means Raw score\n",
      "   \t    length means Alignment length\n",
      "   \t    pident means Percentage of identical matches\n",
      "   \t    nident means Number of identical matches\n",
      "   \t  mismatch means Number of mismatches\n",
      "   \t  positive means Number of positive-scoring matches\n",
      "   \t   gapopen means Number of gap openings\n",
      "   \t      gaps means Total number of gaps\n",
      "   \t      ppos means Percentage of positive-scoring matches\n",
      "   \t    frames means Query and subject frames separated by a '/'\n",
      "   \t    qframe means Query frame\n",
      "   \t    sframe means Subject frame\n",
      "   \t      btop means Blast traceback operations (BTOP)\n",
      "   \t   staxids means unique Subject Taxonomy ID(s), separated by a ';'\n",
      "   \t\t\t (in numerical order)\n",
      "   \t sscinames means unique Subject Scientific Name(s), separated by a ';'\n",
      "   \t scomnames means unique Subject Common Name(s), separated by a ';'\n",
      "   \tsblastnames means unique Subject Blast Name(s), separated by a ';'\n",
      "   \t\t\t (in alphabetical order)\n",
      "   \tsskingdoms means unique Subject Super Kingdom(s), separated by a ';'\n",
      "   \t\t\t (in alphabetical order) \n",
      "   \t    stitle means Subject Title\n",
      "   \tsalltitles means All Subject Title(s), separated by a '<>'\n",
      "   \t   sstrand means Subject Strand\n",
      "   \t     qcovs means Query Coverage Per Subject\n",
      "   \t   qcovhsp means Query Coverage Per HSP\n",
      "   When not provided, the default value is:\n",
      "   'qseqid sseqid pident length mismatch gapopen qstart qend sstart send\n",
      "   evalue bitscore', which is equivalent to the keyword 'std'\n",
      "   Default = `0'\n",
      " -show_gis\n",
      "   Show NCBI GIs in deflines?\n",
      " -num_descriptions <Integer, >=0>\n",
      "   Number of database sequences to show one-line descriptions for\n",
      "   Not applicable for outfmt > 4\n",
      "   Default = `500'\n",
      "    * Incompatible with:  max_target_seqs\n",
      " -num_alignments <Integer, >=0>\n",
      "   Number of database sequences to show alignments for\n",
      "   Default = `250'\n",
      "    * Incompatible with:  max_target_seqs\n",
      " -line_length <Integer, >=1>\n",
      "   Line length for formatting alignments\n",
      "   Not applicable for outfmt > 4\n",
      "   Default = `60'\n",
      " -html\n",
      "   Produce HTML output?\n",
      "\n",
      " *** Query filtering options\n",
      " -seg <String>\n",
      "   Filter query sequence with SEG (Format: 'yes', 'window locut hicut', or\n",
      "   'no' to disable)\n",
      "   Default = `no'\n",
      " -soft_masking <Boolean>\n",
      "   Apply filtering locations as soft masks\n",
      "   Default = `false'\n",
      " -lcase_masking\n",
      "   Use lower case filtering in query and subject sequence(s)?\n",
      "\n",
      " *** Restrict search or results\n",
      " -gilist <String>\n",
      "   Restrict search of database to list of GI's\n",
      "    * Incompatible with:  negative_gilist, seqidlist, remote, subject,\n",
      "   subject_loc\n",
      " -seqidlist <String>\n",
      "   Restrict search of database to list of SeqId's\n",
      "    * Incompatible with:  gilist, negative_gilist, remote, subject,\n",
      "   subject_loc\n",
      " -negative_gilist <String>\n",
      "   Restrict search of database to everything except the listed GIs\n",
      "    * Incompatible with:  gilist, seqidlist, remote, subject, subject_loc\n",
      " -entrez_query <String>\n",
      "   Restrict search with the given Entrez query\n",
      "    * Requires:  remote\n",
      " -db_soft_mask <String>\n",
      "   Filtering algorithm ID to apply to the BLAST database as soft masking\n",
      "    * Incompatible with:  db_hard_mask, subject, subject_loc\n",
      " -db_hard_mask <String>\n",
      "   Filtering algorithm ID to apply to the BLAST database as hard masking\n",
      "    * Incompatible with:  db_soft_mask, subject, subject_loc\n",
      " -qcov_hsp_perc <Real, 0..100>\n",
      "   Percent query coverage per hsp\n",
      " -max_hsps <Integer, >=1>\n",
      "   Set maximum number of HSPs per subject sequence to save for each query\n",
      " -culling_limit <Integer, >=0>\n",
      "   If the query range of a hit is enveloped by that of at least this many\n",
      "   higher-scoring hits, delete the hit\n",
      "    * Incompatible with:  best_hit_overhang, best_hit_score_edge\n",
      " -best_hit_overhang <Real, (>0 and <0.5)>\n",
      "   Best Hit algorithm overhang value (recommended value: 0.1)\n",
      "    * Incompatible with:  culling_limit\n",
      " -best_hit_score_edge <Real, (>0 and <0.5)>\n",
      "   Best Hit algorithm score edge value (recommended value: 0.1)\n",
      "    * Incompatible with:  culling_limit\n",
      " -max_target_seqs <Integer, >=1>\n",
      "   Maximum number of aligned sequences to keep \n",
      "   Not applicable for outfmt <= 4\n",
      "   Default = `500'\n",
      "    * Incompatible with:  num_descriptions, num_alignments\n",
      "\n",
      " *** Statistical options\n",
      " -dbsize <Int8>\n",
      "   Effective length of the database \n",
      " -searchsp <Int8, >=0>\n",
      "   Effective length of the search space\n",
      " -sum_stats <Boolean>\n",
      "   Use sum statistics\n",
      "\n",
      " *** Search strategy options\n",
      " -import_search_strategy <File_In>\n",
      "   Search strategy to use\n",
      "    * Incompatible with:  export_search_strategy\n",
      " -export_search_strategy <File_Out>\n",
      "   File name to record the search strategy used\n",
      "    * Incompatible with:  import_search_strategy\n",
      "\n",
      " *** Extension options\n",
      " -xdrop_ungap <Real>\n",
      "   X-dropoff value (in bits) for ungapped extensions\n",
      " -xdrop_gap <Real>\n",
      "   X-dropoff value (in bits) for preliminary gapped extensions\n",
      " -xdrop_gap_final <Real>\n",
      "   X-dropoff value (in bits) for final gapped alignment\n",
      " -window_size <Integer, >=0>\n",
      "   Multiple hits window size, use 0 to specify 1-hit algorithm\n",
      " -ungapped\n",
      "   Perform ungapped alignment only?\n",
      "\n",
      " *** Miscellaneous options\n",
      " -parse_deflines\n",
      "   Should the query and subject defline(s) be parsed?\n",
      " -num_threads <Integer, >=1>\n",
      "   Number of threads (CPUs) to use in the BLAST search\n",
      "   Default = `1'\n",
      "    * Incompatible with:  remote\n",
      " -remote\n",
      "   Execute search remotely?\n",
      "    * Incompatible with:  gilist, seqidlist, negative_gilist, subject_loc,\n",
      "   num_threads\n",
      " -use_sw_tback\n",
      "   Compute locally optimal Smith-Waterman alignments?\n",
      "\n"
     ]
    }
   ],
   "source": [
    "!docker run biocontainers/blast:v2.2.31_cv2 blastp -help"
   ]
  },
  {
   "cell_type": "code",
   "execution_count": 20,
   "id": "dc533429",
   "metadata": {},
   "outputs": [
    {
     "name": "stdout",
     "output_type": "stream",
     "text": [
      "--2023-05-12 09:50:02--  http://www.uniprot.org/uniprot/P04156.fasta\n",
      "Resolving www.uniprot.org (www.uniprot.org)... 193.62.193.81\n",
      "Connecting to www.uniprot.org (www.uniprot.org)|193.62.193.81|:80... connected.\n",
      "HTTP request sent, awaiting response... 301 Moved Permanently\n",
      "Location: https://www.uniprot.org/uniprot/P04156.fasta [following]\n",
      "--2023-05-12 09:50:02--  https://www.uniprot.org/uniprot/P04156.fasta\n",
      "Connecting to www.uniprot.org (www.uniprot.org)|193.62.193.81|:443... connected.\n",
      "HTTP request sent, awaiting response... 301 Moved Permanently\n",
      "Location: https://rest.uniprot.org/uniprot/P04156.fasta [following]\n",
      "--2023-05-12 09:50:02--  https://rest.uniprot.org/uniprot/P04156.fasta\n",
      "Resolving rest.uniprot.org (rest.uniprot.org)... 193.62.193.81\n",
      "Connecting to rest.uniprot.org (rest.uniprot.org)|193.62.193.81|:443... connected.\n",
      "HTTP request sent, awaiting response... 301 Moved Permanently\n",
      "Location: https://rest.uniprot.org/uniprotkb/P04156.fasta [following]\n",
      "--2023-05-12 09:50:02--  https://rest.uniprot.org/uniprotkb/P04156.fasta\n",
      "Reusing existing connection to rest.uniprot.org:443.\n",
      "HTTP request sent, awaiting response... 200 OK\n",
      "Length: 342 [text/plain]\n",
      "Saving to: ‘P04156.fasta.2’\n",
      "\n",
      "P04156.fasta.2      100%[===================>]     342  --.-KB/s    in 0s      \n",
      "\n",
      "2023-05-12 09:50:02 (46,6 MB/s) - ‘P04156.fasta.2’ saved [342/342]\n",
      "\n"
     ]
    }
   ],
   "source": [
    "#Let’s download some data to start blasting:\n",
    "#!mkdir blast_example\n",
    "#!cd blast_example\n",
    "!wget http://www.uniprot.org/uniprot/P04156.fasta"
   ]
  },
  {
   "cell_type": "code",
   "execution_count": 14,
   "id": "616261c2",
   "metadata": {},
   "outputs": [
    {
     "name": "stdout",
     "output_type": "stream",
     "text": [
      "  % Total    % Received % Xferd  Average Speed   Time    Time     Time  Current\n",
      "                                 Dload  Upload   Total   Spent    Left  Speed\n",
      "100 23.3M  100 23.3M    0     0  3596k      0  0:00:06  0:00:06 --:--:-- 5138k\n"
     ]
    }
   ],
   "source": [
    "#This is a human prion FASTA sequence. We’ll also need a reference database to blast against:\n",
    "!curl -O ftp://ftp.ncbi.nih.gov/refseq/D_rerio/mRNA_Prot/zebrafish.1.protein.faa.gz\n",
    "!gunzip zebrafish.1.protein.faa.gz"
   ]
  },
  {
   "cell_type": "code",
   "execution_count": 15,
   "id": "493c4e40",
   "metadata": {},
   "outputs": [
    {
     "name": "stdout",
     "output_type": "stream",
     "text": [
      "\n",
      "\n",
      "Building a new DB, current time: 05/12/2023 07:46:42\n",
      "New DB name:   /data/zebrafish.1.protein.faa\n",
      "New DB title:  zebrafish.1.protein.faa\n",
      "Sequence type: Protein\n",
      "Keep Linkouts: T\n",
      "Keep MBits: T\n",
      "Maximum file size: 1000000000B\n",
      "Adding sequences from FASTA; added 52917 sequences in 13.0528 seconds.\n"
     ]
    }
   ],
   "source": [
    "!docker run -v `pwd`:/data/ biocontainers/blast:v2.2.31_cv2 makeblastdb -in zebrafish.1.protein.faa -dbtype prot"
   ]
  },
  {
   "cell_type": "code",
   "execution_count": 33,
   "id": "74dfdae9",
   "metadata": {},
   "outputs": [],
   "source": [
    "!docker run -v `pwd`:/data/ biocontainers/blast:v2.2.31_cv2 blastp -query P04156.fasta.1 -db zebrafish.1.protein.faa -out results.txt -outfmt \"6 qseqid sseqid pident length mismatch evalue\""
   ]
  },
  {
   "cell_type": "code",
   "execution_count": 34,
   "id": "9eb73ba5",
   "metadata": {},
   "outputs": [
    {
     "name": "stdout",
     "output_type": "stream",
     "text": [
      "sp|P04156|PRIO_HUMAN\tXP_017207509.1\t42.50\t80\t31\t2e-04\n",
      "sp|P04156|PRIO_HUMAN\tXP_017207511.1\t42.50\t80\t31\t2e-04\n",
      "sp|P04156|PRIO_HUMAN\tXP_021323434.1\t42.50\t80\t31\t3e-04\n",
      "sp|P04156|PRIO_HUMAN\tXP_017207510.1\t42.50\t80\t31\t3e-04\n",
      "sp|P04156|PRIO_HUMAN\tXP_021323433.1\t42.50\t80\t31\t3e-04\n",
      "sp|P04156|PRIO_HUMAN\tXP_009291733.1\t42.50\t80\t31\t3e-04\n",
      "sp|P04156|PRIO_HUMAN\tNP_001268391.1\t24.84\t157\t103\t0.072\n",
      "sp|P04156|PRIO_HUMAN\tXP_009291898.1\t24.84\t157\t103\t0.075\n",
      "sp|P04156|PRIO_HUMAN\tXP_021323367.1\t24.84\t157\t103\t0.075\n",
      "sp|P04156|PRIO_HUMAN\tXP_021323366.1\t24.84\t157\t103\t0.076\n"
     ]
    }
   ],
   "source": [
    "!head results.txt"
   ]
  },
  {
   "cell_type": "code",
   "execution_count": null,
   "id": "f44a5b5d",
   "metadata": {},
   "outputs": [],
   "source": []
  }
 ],
 "metadata": {
  "kernelspec": {
   "display_name": "Python 3",
   "language": "python",
   "name": "python3"
  },
  "language_info": {
   "codemirror_mode": {
    "name": "ipython",
    "version": 3
   },
   "file_extension": ".py",
   "mimetype": "text/x-python",
   "name": "python",
   "nbconvert_exporter": "python",
   "pygments_lexer": "ipython3",
   "version": "3.7.8"
  }
 },
 "nbformat": 4,
 "nbformat_minor": 5
}
